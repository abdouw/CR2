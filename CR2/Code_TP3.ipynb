{
 "cells": [
  {
   "cell_type": "code",
   "execution_count": 26,
   "metadata": {},
   "outputs": [],
   "source": [
    "from dolfin import *\n",
    "import numpy as np\n",
    "from mshr import *\n",
    "import matplotlib.pyplot as plt"
   ]
  },
  {
   "cell_type": "code",
   "execution_count": 27,
   "metadata": {},
   "outputs": [
    {
     "data": {
      "text/plain": [
       "[<matplotlib.lines.Line2D at 0x7f51380cbb70>,\n",
       " <matplotlib.lines.Line2D at 0x7f51380cbcc0>]"
      ]
     },
     "execution_count": 27,
     "metadata": {},
     "output_type": "execute_result"
    },
    {
     "data": {
      "image/png": "[encoded data removed]",
      "text/plain": [
       "<Figure size 432x288 with 1 Axes>"
      ]
     },
     "metadata": {
      "needs_background": "light"
     },
     "output_type": "display_data"
    }
   ],
   "source": [
    "Lx, Ly = 10., 1\n",
    "nx = 1\n",
    "geom = Rectangle(Point(0,0),Point(Lx,Ly))\n",
    "mesh = generate_mesh(geom,10)\n",
    "n = mesh.geometry().dim() # number of space dimensions\n",
    "u0 = Expression((\"0\",\"p*x[0]*(x[0]-Lx)\"),p=0.001,Lx=Lx,Ly=Ly,degree=2)\n",
    "ALE.move(mesh,u0)\n",
    "plot(mesh)"
   ]
  },
  {
   "cell_type": "code",
   "execution_count": 28,
   "metadata": {},
   "outputs": [],
   "source": [
    "# Mark boundary subdomians\n",
    "left = CompiledSubDomain(\"near(x[0],0) && on_boundary\")\n",
    "right = CompiledSubDomain(\"near(x[0],L) && on_boundary\", L=Lx)\n",
    "\n",
    "# Mark facets for Neuman BCs\n",
    "boundary_markers = MeshFunction(\"size_t\", mesh,1,0)\n",
    "left.mark(boundary_markers, 1)\n",
    "right.mark(boundary_markers, 2)\n",
    "\n",
    "\n",
    "EE, nu = 70.e9, 0.3\n",
    "mu = Expression('EE/(2*(1 + nu))',EE=EE, nu=nu, degree=0)\n",
    "lmbda = Expression('EE*nu/((1 + nu)*(1 - 2*nu))', EE=EE, nu=nu, degree=0)\n",
    "\n"
   ]
  },
  {
   "cell_type": "code",
   "execution_count": 29,
   "metadata": {},
   "outputs": [],
   "source": [
    "V= VectorFunctionSpace(mesh, 'P', 1)\n",
    "\n",
    "u = Function(V)\n",
    "u_trial = TrialFunction(V)\n",
    "u_test = TestFunction(V)"
   ]
  },
  {
   "cell_type": "code",
   "execution_count": 30,
   "metadata": {},
   "outputs": [],
   "source": [
    "dim = u.geometric_dimension()  # space dimension\n",
    "Id = Identity(dim)\n",
    "F = variable(grad(u) + Id)\n",
    "C = F.T*F\n",
    "E = 1./2.*(C-Id)\n",
    "J = det(F)\n",
    "W_KSV = lmbda/2.*tr(E)**2 + mu*inner(E,E)\n",
    "b = Expression((\"0.\",\"t\"), t=0., degree=0)\n",
    "energy = W_KSV*dx - dot(b,u)*dx\n",
    "denergy = derivative(energy,u,u_test)\n",
    "ddenergy = derivative(denergy,u,u_trial)\n",
    "bc = DirichletBC(V, Constant((0.,0.)), boundary_markers, 1)\n",
    "\n",
    "S =  diff(W_KSV,F)\n",
    "Sxx = S[0,0]\n",
    "\n"
   ]
  },
  {
   "cell_type": "code",
   "execution_count": 45,
   "metadata": {},
   "outputs": [
    {
     "name": "stderr",
     "output_type": "stream",
     "text": [
      "No handles with labels found to put in legend.\n",
      "No handles with labels found to put in legend.\n",
      "No handles with labels found to put in legend.\n",
      "No handles with labels found to put in legend.\n",
      "No handles with labels found to put in legend.\n"
     ]
    },
    {
     "name": "stdout",
     "output_type": "stream",
     "text": [
      "0.0\n",
      "0.0\n",
      "0.0\n",
      "0.0\n",
      "0.0\n"
     ]
    },
    {
     "name": "stderr",
     "output_type": "stream",
     "text": [
      "No handles with labels found to put in legend.\n",
      "No handles with labels found to put in legend.\n",
      "No handles with labels found to put in legend.\n",
      "No handles with labels found to put in legend.\n",
      "No handles with labels found to put in legend.\n"
     ]
    },
    {
     "name": "stdout",
     "output_type": "stream",
     "text": [
      "0.0\n",
      "0.0\n",
      "0.0\n",
      "0.0\n",
      "0.0\n"
     ]
    },
    {
     "data": {
      "image/png": "[encoded data removed]",
      "text/plain": [
       "<Figure size 432x288 with 1 Axes>"
      ]
     },
     "metadata": {
      "needs_background": "light"
     },
     "output_type": "display_data"
    }
   ],
   "source": [
    "depla = np.linspace(0,1.,10)\n",
    "for t in depla:\n",
    "    bcu  = DirichletBC(V, Constant((-t,0.)), boundary_markers, 2)\n",
    "    bcs =[bc,bcu]\n",
    "    problem = NonlinearVariationalProblem(denergy, u, bcs=bcs, J =ddenergy)\n",
    "    solver = NonlinearVariationalSolver(problem)\n",
    "    solver.solve()\n",
    "    #plt.figure()\n",
    "    #plot(u, mode=\"displacement\")\n",
    "    #plt.title('Flambement de la poutre pour p = 0.001')\n",
    "    plt.plot(t,u(Lx/2,Ly/2)[0],'b+')\n",
    "    plt.plot(t,-u(Lx/2,Ly/2)[1],'r+')\n",
    "    plt.ylabel('Deplacement axial au point [Lx/2,Ly/2]')\n",
    "    plt.xlabel('Deplacement impose (en m)')\n",
    "    plt.title('Deplacement axial en fonction du deplacement impose')\n",
    "    plt.legend(loc=5)\n",
    "    reac = assemble(Sxx*ds(0)) \n",
    "    print(reac)\n",
    "    #plt.figure(2)\n",
    "    #plt.plot(t,reac,'b+')\n",
    "    #plt.ylabel('Force (en N)')\n",
    "    #plt.xlabel('Deplacement (en m)')\n",
    "    #plt.title('Force en fonction du deplacement')"
   ]
  },
  {
   "cell_type": "code",
   "execution_count": null,
   "metadata": {},
   "outputs": [],
   "source": []
  },
  {
   "cell_type": "code",
   "execution_count": null,
   "metadata": {},
   "outputs": [],
   "source": []
  }
 ],
 "metadata": {
  "kernelspec": {
   "display_name": "Python 3",
   "language": "python",
   "name": "python3"
  },
  "language_info": {
   "codemirror_mode": {
    "name": "ipython",
    "version": 3
   },
   "file_extension": ".py",
   "mimetype": "text/x-python",
   "name": "python",
   "nbconvert_exporter": "python",
   "pygments_lexer": "ipython3",
   "version": "3.6.7"
  }
 },
 "nbformat": 4,
 "nbformat_minor": 2
}
